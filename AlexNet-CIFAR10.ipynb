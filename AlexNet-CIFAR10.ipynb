{
 "cells": [
  {
   "cell_type": "markdown",
   "metadata": {
    "tags": []
   },
   "source": [
    "## Preparation"
   ]
  },
  {
   "cell_type": "code",
   "execution_count": null,
   "metadata": {},
   "outputs": [],
   "source": [
    "!cat  /proc/cpuinfo"
   ]
  },
  {
   "cell_type": "code",
   "execution_count": null,
   "metadata": {},
   "outputs": [],
   "source": [
    "!nvidia-smi -L"
   ]
  },
  {
   "cell_type": "code",
   "execution_count": null,
   "metadata": {},
   "outputs": [],
   "source": [
    "%%capture\n",
    "!pip install tensorly\n",
    "!pip install --upgrade torch torchvision"
   ]
  },
  {
   "cell_type": "code",
   "execution_count": null,
   "metadata": {
    "id": "lWp1UCMKRDgZ"
   },
   "outputs": [],
   "source": [
    "import time\n",
    "import numpy as np\n",
    "import matplotlib.pyplot as plt\n",
    "import pandas as pd\n",
    "import torch\n",
    "import torch.nn as nn\n",
    "import torch.optim as optim\n",
    "import torchvision\n",
    "import torchvision.transforms as transforms\n",
    "print(torch.__version__)\n",
    "torch.manual_seed(0)\n",
    "\n",
    "from trainer import train, test\n",
    "from tucker_layer import TuckerLayer"
   ]
  },
  {
   "cell_type": "code",
   "execution_count": null,
   "metadata": {
    "id": "5PC5pCRTSBIv"
   },
   "outputs": [],
   "source": [
    "transform = transforms.Compose([\n",
    "    transforms.Resize(256),\n",
    "    transforms.CenterCrop(224),\n",
    "    transforms.ToTensor(),\n",
    "    transforms.Normalize(mean=[0.485, 0.456, 0.406], std=[0.229, 0.224, 0.225]),\n",
    "])"
   ]
  },
  {
   "cell_type": "code",
   "execution_count": null,
   "metadata": {
    "executionInfo": {
     "elapsed": 14612,
     "status": "ok",
     "timestamp": 1591945206864,
     "user": {
      "displayName": "Dr. Vaibhav Kumar",
      "photoUrl": "https://lh3.googleusercontent.com/a-/AOh14Ggv0ODnZNPUUE1bFaIOUaFH9CpYqhZjPkcwn9lJqA=s64",
      "userId": "18385588513169057983"
     },
     "user_tz": -330
    },
    "id": "u07qNie5RTgv",
    "outputId": "66421ff0-07ee-4398-b05c-d65c31024e70"
   },
   "outputs": [],
   "source": [
    "train_data = torchvision.datasets.CIFAR10(root='./downloads/2013', train=True, download=True, transform=transform)\n",
    "train_val_split = (int(len(train_data) * 0.8), len(train_data) - int(len(train_data) * 0.8))\n",
    "train_data, val_data = torch.utils.data.random_split(train_data, train_val_split)\n",
    "trainloader = torch.utils.data.DataLoader(train_data, batch_size=4, shuffle=True, num_workers=1)\n",
    "valloader = torch.utils.data.DataLoader(val_data, batch_size=4, shuffle=False, num_workers=1)\n",
    "\n",
    "test_data = torchvision.datasets.CIFAR10(root='./downloads/2013', train=False, download=True, transform=transform)\n",
    "testloader = torch.utils.data.DataLoader(test_data, batch_size=4, shuffle=False, num_workers=1)"
   ]
  },
  {
   "cell_type": "code",
   "execution_count": null,
   "metadata": {
    "executionInfo": {
     "elapsed": 15448,
     "status": "ok",
     "timestamp": 1591945207713,
     "user": {
      "displayName": "Dr. Vaibhav Kumar",
      "photoUrl": "https://lh3.googleusercontent.com/a-/AOh14Ggv0ODnZNPUUE1bFaIOUaFH9CpYqhZjPkcwn9lJqA=s64",
      "userId": "18385588513169057983"
     },
     "user_tz": -330
    },
    "id": "k3TJAqg1SQO-",
    "outputId": "4bbcbe82-cedd-4c29-f6b4-9eeb36a449dc"
   },
   "outputs": [],
   "source": [
    "# functions to show an image\n",
    "\n",
    "\n",
    "def imshow(img):\n",
    "    img = img / 2 + 0.5     # unnormalize\n",
    "    npimg = img.numpy()\n",
    "    plt.imshow(np.transpose(npimg, (1, 2, 0)))\n",
    "    plt.show()\n",
    "\n",
    "\n",
    "# get some random training images\n",
    "dataiter = iter(trainloader)\n",
    "images, labels = dataiter.next()\n",
    "\n",
    "# show images\n",
    "imshow(torchvision.utils.make_grid(images))\n",
    "# print labels\n",
    "print(' '.join('%5s' % labels[j] for j in range(4)))"
   ]
  },
  {
   "cell_type": "markdown",
   "metadata": {
    "tags": []
   },
   "source": [
    "## ALexNet"
   ]
  },
  {
   "cell_type": "code",
   "execution_count": null,
   "metadata": {
    "executionInfo": {
     "elapsed": 28497,
     "status": "ok",
     "timestamp": 1591945220774,
     "user": {
      "displayName": "Dr. Vaibhav Kumar",
      "photoUrl": "https://lh3.googleusercontent.com/a-/AOh14Ggv0ODnZNPUUE1bFaIOUaFH9CpYqhZjPkcwn9lJqA=s64",
      "userId": "18385588513169057983"
     },
     "user_tz": -330
    },
    "id": "_U7qLjdZc9ip",
    "outputId": "b14b1536-ea0b-45f4-bc13-1857e37158aa"
   },
   "outputs": [],
   "source": [
    "AlexNet_model = torch.hub.load('pytorch/vision:v0.9.0', 'alexnet', pretrained=True)\n",
    "AlexNet_model.eval()\n",
    "AlexNet_model.classifier[1] = nn.Linear(9216,4096)\n",
    "AlexNet_model.classifier[4] = nn.Linear(4096,1024)\n",
    "AlexNet_model.classifier[6] = nn.Linear(1024,10)"
   ]
  },
  {
   "cell_type": "code",
   "execution_count": null,
   "metadata": {
    "id": "bM-BE171qrnn"
   },
   "outputs": [],
   "source": [
    "# AlexNet_model = AlexNet()\n",
    "device = torch.device(\"cuda:0\" if torch.cuda.is_available() else \"cpu\")\n",
    "print(device)\n",
    "AlexNet_model.to(device)\n",
    "def loss_func1(model, output, labels):\n",
    "    return nn.CrossEntropyLoss()(output, labels)\n",
    "optimizer1 = optim.SGD(\n",
    "    [\n",
    "        {\"params\": AlexNet_model.features.parameters(), \"lr\": 0.0001, \"momentum\": 0.9},\n",
    "        {\"params\": AlexNet_model.classifier.parameters(), \"lr\": 0.001, \"momentum\": 0.9},\n",
    "    ],\n",
    "    lr=0.0001,\n",
    ")\n",
    "scheduler1 = optim.lr_scheduler.CosineAnnealingWarmRestarts(optimizer1, T_0=1, T_mult=2, verbose=False)"
   ]
  },
  {
   "cell_type": "code",
   "execution_count": null,
   "metadata": {},
   "outputs": [],
   "source": [
    "train(model=AlexNet_model,\n",
    "      train_loader=trainloader,\n",
    "      val_loader=valloader,\n",
    "      epoch_num=63,\n",
    "      optimizer=optimizer1,\n",
    "      scheduler=scheduler1,\n",
    "      scheduler_step='batch',\n",
    "      loss_func=loss_func1,\n",
    "      path='alexnet')"
   ]
  },
  {
   "cell_type": "code",
   "execution_count": null,
   "metadata": {},
   "outputs": [],
   "source": [
    "del(AlexNet_model)"
   ]
  },
  {
   "cell_type": "markdown",
   "metadata": {
    "tags": []
   },
   "source": [
    "## AlexNet Tucker Compression without orthogonal"
   ]
  },
  {
   "cell_type": "code",
   "execution_count": null,
   "metadata": {},
   "outputs": [],
   "source": [
    "AlexTucker_model = torch.hub.load('pytorch/vision:v0.9.0', 'alexnet', pretrained=False)\n",
    "AlexTucker_model.eval()\n",
    "AlexTucker_model.classifier[1] = nn.Linear(9216,4096)\n",
    "AlexTucker_model.classifier[4] = nn.Linear(4096,1024)\n",
    "AlexTucker_model.classifier[6] = nn.Linear(1024,10)\n",
    "AlexTucker_model.load_state_dict(torch.load('alexnet_best.pth'))\n",
    "AlexTucker_model = AlexTucker_model.to('cpu')"
   ]
  },
  {
   "cell_type": "code",
   "execution_count": null,
   "metadata": {},
   "outputs": [],
   "source": [
    "for i in [10]:\n",
    "    AlexTucker_model.features[i] = TuckerLayer.from_Conv2D(AlexTucker_model.features[i], method='HOSVD')"
   ]
  },
  {
   "cell_type": "code",
   "execution_count": null,
   "metadata": {},
   "outputs": [],
   "source": [
    "device = torch.device(\"cuda:0\" if torch.cuda.is_available() else \"cpu\")\n",
    "print(device)\n",
    "AlexTucker_model.to(device)\n",
    "optimizer2 = optim.SGD(\n",
    "    [\n",
    "        {\"params\": AlexTucker_model.features[10].parameters(), \"lr\": 0.0001, \"momentum\": 0.9},\n",
    "    ],\n",
    "    lr=0.00001, momentum=0.9\n",
    ")\n",
    "scheduler2 = optim.lr_scheduler.CosineAnnealingWarmRestarts(optimizer2, T_0=1, T_mult=2, verbose=False)"
   ]
  },
  {
   "cell_type": "code",
   "execution_count": null,
   "metadata": {},
   "outputs": [],
   "source": [
    "before_accu = test(AlexTucker_model, valloader)\n",
    "print('Acuracy: {:.3f}'.format(before_accu * 100))"
   ]
  },
  {
   "cell_type": "code",
   "execution_count": null,
   "metadata": {},
   "outputs": [],
   "source": [
    "train(model=AlexTucker_model,\n",
    "      train_loader=trainloader,\n",
    "      val_loader=valloader,\n",
    "      epoch_num=63,\n",
    "      optimizer=optimizer2,\n",
    "      scheduler=scheduler2,\n",
    "      scheduler_step='batch',\n",
    "      loss_func=loss_func1,\n",
    "      path='alexnet_tucker')"
   ]
  },
  {
   "cell_type": "code",
   "execution_count": null,
   "metadata": {},
   "outputs": [],
   "source": [
    "del(AlexTucker_model)"
   ]
  },
  {
   "cell_type": "markdown",
   "metadata": {
    "tags": []
   },
   "source": [
    "## AlexNet Tucker Compression with orthogonal regularization"
   ]
  },
  {
   "cell_type": "code",
   "execution_count": null,
   "metadata": {},
   "outputs": [],
   "source": [
    "AlexTucker_model = torch.hub.load('pytorch/vision:v0.9.0', 'alexnet', pretrained=False)\n",
    "AlexTucker_model.eval()\n",
    "AlexTucker_model.classifier[1] = nn.Linear(9216,4096)\n",
    "AlexTucker_model.classifier[4] = nn.Linear(4096,1024)\n",
    "AlexTucker_model.classifier[6] = nn.Linear(1024,10)\n",
    "AlexTucker_model.load_state_dict(torch.load('alexnet_best.pth'))\n",
    "AlexTucker_model = AlexTucker_model.to('cpu')"
   ]
  },
  {
   "cell_type": "code",
   "execution_count": null,
   "metadata": {},
   "outputs": [],
   "source": [
    "for i in [10]:\n",
    "    AlexTucker_model.features[i] = TuckerLayer.from_Conv2D(AlexTucker_model.features[i], method='HOSVD')"
   ]
  },
  {
   "cell_type": "code",
   "execution_count": null,
   "metadata": {},
   "outputs": [],
   "source": [
    "device = torch.device(\"cuda:0\" if torch.cuda.is_available() else \"cpu\")\n",
    "print(device)\n",
    "AlexTucker_model.to(device)\n",
    "def loss_func2(model, output, labels):\n",
    "    loss1 = nn.CrossEntropyLoss()(output, labels)\n",
    "    loss2 = 0.0\n",
    "    for i in [10]:\n",
    "        loss2 += model.features[i].orthogonal_error()\n",
    "    return loss1 + 0.01 * loss2\n",
    "optimizer3 = optim.SGD(\n",
    "    [\n",
    "        {\"params\": AlexTucker_model.features[10].parameters(), \"lr\": 0.0001, \"momentum\": 0.9},\n",
    "    ],\n",
    "    lr=0.00001, momentum=0.9\n",
    ")\n",
    "scheduler3 = optim.lr_scheduler.CosineAnnealingWarmRestarts(optimizer3, T_0=1, T_mult=2, verbose=False)"
   ]
  },
  {
   "cell_type": "code",
   "execution_count": null,
   "metadata": {},
   "outputs": [],
   "source": [
    "train(model=AlexTucker_model,\n",
    "      train_loader=trainloader,\n",
    "      val_loader=valloader,\n",
    "      epoch_num=63,\n",
    "      optimizer=optimizer3,\n",
    "      scheduler=scheduler3,\n",
    "      scheduler_step='batch',\n",
    "      loss_func=loss_func2,\n",
    "      path='alexnet_tucker2')"
   ]
  },
  {
   "cell_type": "code",
   "execution_count": null,
   "metadata": {},
   "outputs": [],
   "source": [
    "del(AlexTucker_model)"
   ]
  },
  {
   "cell_type": "code",
   "execution_count": null,
   "metadata": {},
   "outputs": [],
   "source": [
    "def count_parameters(paras):\n",
    "    return sum(p.numel() for p in paras if p.requires_grad)\n",
    "\n",
    "def test_model_from_path(model_path):\n",
    "    model = torch.jit.load(model_path + '.pt')\n",
    "    device = torch.device(\"cuda:0\" if torch.cuda.is_available() else \"cpu\")\n",
    "    model.to(device)\n",
    "    model.eval()\n",
    "    start_time = time.time()\n",
    "    print(count_parameters(model.parameters()))\n",
    "    print(count_parameters(model.features.parameters()))\n",
    "    print('{:.3f}'.format(test(model, testloader) * 100))\n",
    "    if torch.cuda.is_available():\n",
    "        torch.cuda.synchronize()\n",
    "    print(time.time() - start_time)"
   ]
  },
  {
   "cell_type": "code",
   "execution_count": null,
   "metadata": {},
   "outputs": [],
   "source": [
    "test_model_from_path('alexnet')\n",
    "test_model_from_path('alexnet_tucker')\n",
    "test_model_from_path('alexnet_tucker2')\n",
    "print(before_accu)"
   ]
  },
  {
   "cell_type": "code",
   "execution_count": null,
   "metadata": {},
   "outputs": [],
   "source": []
  }
 ],
 "metadata": {
  "kernelspec": {
   "display_name": "Python 3 (ipykernel)",
   "language": "python",
   "name": "python3"
  },
  "language_info": {
   "codemirror_mode": {
    "name": "ipython",
    "version": 3
   },
   "file_extension": ".py",
   "mimetype": "text/x-python",
   "name": "python",
   "nbconvert_exporter": "python",
   "pygments_lexer": "ipython3",
   "version": "3.10.8"
  }
 },
 "nbformat": 4,
 "nbformat_minor": 4
}
